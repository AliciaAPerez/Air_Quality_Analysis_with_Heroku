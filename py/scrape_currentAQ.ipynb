{
 "cells": [
  {
   "cell_type": "code",
   "execution_count": 1,
   "metadata": {},
   "outputs": [],
   "source": [
    "# Importing Dependencies\n",
    "from splinter import Browser\n",
    "from bs4 import BeautifulSoup\n",
    "import time as tm\n",
    "import pandas as pd"
   ]
  },
  {
   "cell_type": "code",
   "execution_count": 2,
   "metadata": {},
   "outputs": [],
   "source": [
    "def init_browser():\n",
    "    # Setting Up Splinter\n",
    "    executable_path = {'executable_path': \"C:/Windows/chromedriver\"}\n",
    "    return Browser('chrome', **executable_path, headless=True)"
   ]
  },
  {
   "cell_type": "code",
   "execution_count": 31,
   "metadata": {},
   "outputs": [],
   "source": [
    "def scrape_info():\n",
    "    browser = init_browser()\n",
    "    \n",
    "    # Creating List of Cities\n",
    "    city_list = [x for item in field_item]\n",
    "    \n",
    "    # Creating List of Current AQI Data\n",
    "    currentAQI = []\n",
    "    \n",
    "    baseUrl = 'https://www.airnow.gov/?'\n",
    "    state = 'CA'\n",
    "    country = 'USA'\n",
    "    \n",
    "    for city in city_list:\n",
    "        # Building URL Query\n",
    "        url_air_now = baseUrl + 'city=' + city + '&state=' + state + '&country=' + country\n",
    "\n",
    "        # Visiting URL \n",
    "        browser.visit(url_air_now)\n",
    "        # Visiting the URL Takes Some Time, Using the Time Module to Slow Down the Run\n",
    "        tm.sleep(1)\n",
    "\n",
    "        # Scrape page into Soup\n",
    "        html = browser.html\n",
    "        soup = BeautifulSoup(html, \"html.parser\")\n",
    "\n",
    "        # Scraping Date & Time\n",
    "        aqUpdateTime = soup.find('span', class_='aq-updated-time')\n",
    "        currentDateTime = aqUpdateTime.text\n",
    "        currentTime = currentDateTime.rsplit('PST')[0] + 'PST'\n",
    "        currentDate = currentDateTime.rsplit('PST')[1]\n",
    "\n",
    "        # Scraping Current Pollutant\n",
    "        aqiItem = soup.find('div', class_='aqi')\n",
    "        aqi = aqiItem.find('b').text\n",
    "        pollutantItem = soup.find('div', class_='pollutant')\n",
    "        pollutant = pollutantItem.find('b').text\n",
    "        \n",
    "        # Appending Dictionary to List\n",
    "        currentAQI.append({\"City\": city, \"Time\": currentTime, \"Date\": currentDate,\n",
    "                          \"Current AQI Value\": aqi, \"Current Pollutant\": pollutant})\n",
    "\n",
    "        \n",
    "\n",
    "    "
   ]
  },
  {
   "cell_type": "code",
   "execution_count": 32,
   "metadata": {},
   "outputs": [
    {
     "name": "stdout",
     "output_type": "stream",
     "text": [
      "OZONE\n"
     ]
    }
   ],
   "source": [
    "scrape_info()"
   ]
  },
  {
   "cell_type": "raw",
   "metadata": {},
   "source": []
  }
 ],
 "metadata": {
  "kernelspec": {
   "display_name": "MyPythonEnv",
   "language": "python",
   "name": "mypythonenv"
  },
  "language_info": {
   "codemirror_mode": {
    "name": "ipython",
    "version": 3
   },
   "file_extension": ".py",
   "mimetype": "text/x-python",
   "name": "python",
   "nbconvert_exporter": "python",
   "pygments_lexer": "ipython3",
   "version": "3.8.3"
  }
 },
 "nbformat": 4,
 "nbformat_minor": 4
}
